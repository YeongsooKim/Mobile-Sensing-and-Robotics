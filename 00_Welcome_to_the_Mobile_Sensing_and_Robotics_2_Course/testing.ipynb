{
 "cells": [
  {
   "cell_type": "markdown",
   "id": "dc9f4af8-1044-4c12-9a86-5bc20f9a3ffe",
   "metadata": {},
   "source": [
    "All summands are scalar so the transposition has no effect\n",
    "\n",
    "By grouping similar terms, we obtain:\n",
    "\n",
    "$$\n",
    "e_i(x + \\Delta x) \\approx e_i^T \\Omega_i e_i +\n",
    "e_i^T \\Omega_i J_i \\Delta x + \\Delta x^T J_i^T \\Omega_i e_i +\n",
    "\\Delta x^T J_i^T \\Omega_i J_i \\Delta x\n",
    "$$\n",
    "\n",
    "$$\n",
    "= e_i^T \\Omega_i e_i + 2e_i^T \\Omega_i J_i \\Delta x + \\Delta x^T J_i^T \\Omega_i J_i \\Delta x\n",
    "$$\n",
    "\n",
    "$$\n",
    "= c_i + 2b_i^T \\Delta x + \\Delta x^T H_i \\Delta x\n",
    "$$\n"
   ]
  }
 ],
 "metadata": {
  "kernelspec": {
   "display_name": "Python 3 (ipykernel)",
   "language": "python",
   "name": "python3"
  },
  "language_info": {
   "codemirror_mode": {
    "name": "ipython",
    "version": 3
   },
   "file_extension": ".py",
   "mimetype": "text/x-python",
   "name": "python",
   "nbconvert_exporter": "python",
   "pygments_lexer": "ipython3",
   "version": "3.8.10"
  }
 },
 "nbformat": 4,
 "nbformat_minor": 5
}
